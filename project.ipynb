{
 "cells": [
  {
   "cell_type": "code",
   "execution_count": null,
   "metadata": {},
   "outputs": [],
   "source": [
    "import pandas as pd\n",
    "from sklearn.ensemble import RandomForestClassifier\n",
    "from sklearn.model_selection import train_test_split\n",
    "from sklearn.metrics import accuracy_score\n",
    "\n",
    "disease_data = pd.read_csv(\"heart_disease_data.csv\")\n",
    "columns = disease_data.columns.tolist()\n",
    "columns = columns[:len(columns)-1]\n",
    "features = disease_data[columns]\n",
    "label = disease_data['target']\n",
    "\n",
    "# our model for making predictions\n",
    "model = RandomForestClassifier(random_state=42)\n",
    "train, test, train_label, test_label = train_test_split(features, label, test_size=0.33, random_state=18)\n",
    "\n",
    "# fitting the model with data for making predictions\n",
    "model.fit(train, train_label)\n",
    "predictions = model.predict(test)\n",
    "print(accuracy_score(predictions, test_label))"
   ]
  }
 ],
 "metadata": {
  "language_info": {
   "name": "python"
  }
 },
 "nbformat": 4,
 "nbformat_minor": 2
}
